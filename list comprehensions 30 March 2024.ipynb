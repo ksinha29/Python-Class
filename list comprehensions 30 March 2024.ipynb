{
 "cells": [
  {
   "cell_type": "markdown",
   "id": "a95c583c",
   "metadata": {},
   "source": [
    "# list comprehensions"
   ]
  },
  {
   "cell_type": "markdown",
   "id": "dc56a2b2",
   "metadata": {},
   "source": [
    "# One powerful feature in Python is list comprehensions, which provide a concise way to create lists. They can be used in various scenarios, including data manipulation, filtering, and transforming data. Let's explore a use case and provide Python code utilizing list comprehensions:"
   ]
  },
  {
   "cell_type": "markdown",
   "id": "1e1e7f6c",
   "metadata": {},
   "source": [
    "# Use Case: Filtering even numbers from a list and squaring them"
   ]
  },
  {
   "cell_type": "markdown",
   "id": "a765f714",
   "metadata": {},
   "source": [
    "# Suppose you have a list of integers and you want to filter out the even numbers and then square them."
   ]
  },
  {
   "cell_type": "markdown",
   "id": "7251de64",
   "metadata": {},
   "source": [
    "# Python Code with List Comprehension:"
   ]
  },
  {
   "cell_type": "code",
   "execution_count": 1,
   "id": "e198f83a",
   "metadata": {},
   "outputs": [
    {
     "data": {
      "text/plain": [
       "[1, 2, 3, 4, 5, 6, 7, 8, 9, 10]"
      ]
     },
     "execution_count": 1,
     "metadata": {},
     "output_type": "execute_result"
    }
   ],
   "source": [
    "# Original list of numbers\n",
    "numbers = [1, 2, 3, 4, 5, 6, 7, 8, 9, 10]\n",
    "numbers"
   ]
  },
  {
   "cell_type": "code",
   "execution_count": 3,
   "id": "b53a7dac",
   "metadata": {},
   "outputs": [
    {
     "data": {
      "text/plain": [
       "[4, 16, 36, 64, 100]"
      ]
     },
     "execution_count": 3,
     "metadata": {},
     "output_type": "execute_result"
    }
   ],
   "source": [
    "# Using list comprehension to filter even numbers and square them\n",
    "even_squares = [x ** 2 for x in numbers if x % 2 == 0]\n",
    "even_squares"
   ]
  },
  {
   "cell_type": "code",
   "execution_count": 4,
   "id": "d2a912a0",
   "metadata": {},
   "outputs": [
    {
     "name": "stdout",
     "output_type": "stream",
     "text": [
      "Filtered even numbers squared: [4, 16, 36, 64, 100]\n"
     ]
    }
   ],
   "source": [
    "# Displaying the result\n",
    "print(\"Filtered even numbers squared:\", even_squares)"
   ]
  },
  {
   "cell_type": "markdown",
   "id": "ad277c44",
   "metadata": {},
   "source": [
    "# Explanation:\n",
    "Original List of Numbers:\n",
    "\n",
    "We start with a list of integers numbers, containing numbers from 1 to 10.\n",
    "List Comprehension:\n",
    "\n",
    "The list comprehension [x ** 2 for x in numbers if x % 2 == 0] is used to filter even numbers and square them.\n",
    "\n",
    "It iterates over each element x in the numbers list.\n",
    "\n",
    "For each element, it checks if the number is even using the condition if x % 2 == 0.\n",
    "\n",
    "If the number is even, it squares the number x using x ** 2.\n",
    "\n",
    "The result is a new list even_squares containing squared values of even numbers.\n",
    "\n",
    "Displaying the Result:\n",
    "    \n",
    "\n",
    "The resulting list even_squares is printed to display the filtered even numbers squared."
   ]
  },
  {
   "cell_type": "code",
   "execution_count": null,
   "id": "c06592cd",
   "metadata": {},
   "outputs": [],
   "source": []
  }
 ],
 "metadata": {
  "kernelspec": {
   "display_name": "Python 3 (ipykernel)",
   "language": "python",
   "name": "python3"
  },
  "language_info": {
   "codemirror_mode": {
    "name": "ipython",
    "version": 3
   },
   "file_extension": ".py",
   "mimetype": "text/x-python",
   "name": "python",
   "nbconvert_exporter": "python",
   "pygments_lexer": "ipython3",
   "version": "3.11.5"
  }
 },
 "nbformat": 4,
 "nbformat_minor": 5
}
