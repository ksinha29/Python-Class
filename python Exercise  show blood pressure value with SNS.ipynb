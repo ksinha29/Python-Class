{
 "cells": [
  {
   "cell_type": "markdown",
   "id": "5ea6f27d",
   "metadata": {},
   "source": [
    "# Problem Statement:\n",
    "Given a dataset with patient ID, systolic blood pressure (SBP), and diastolic blood pressure (DBP) readings, create a seaborn visualization to analyze the trends and distributions of blood pressure values."
   ]
  },
  {
   "cell_type": "markdown",
   "id": "49d72c10",
   "metadata": {},
   "source": [
    "# Sample Dataset:\n",
    "Let's assume a simplified dataset in CSV format:\n",
    "patient_id,systolic_bp,diastolic_bp\n",
    "1,120,80 \n",
    "\n",
    "2,130,85\n",
    "\n",
    "3,118,75\n",
    "\n",
    "4,140,90\n",
    "\n",
    "5,125,82\n",
    "\n",
    "6,135,88\n",
    "\n",
    "7,128,78\n",
    "\n",
    "8,132,87\n",
    "\n",
    "9,122,79\n",
    "\n",
    "10,138,92\n",
    "\n"
   ]
  },
  {
   "cell_type": "markdown",
   "id": "c17c5652",
   "metadata": {},
   "source": [
    "# Explanation:\n",
    "\n",
    "We create a DataFrame from the sample data.\n",
    "The first plot is a histogram using sns.histplot to show the distributions of systolic and diastolic blood pressure values.\n",
    "The second plot is a scatter plot using sns.scatterplot to visualize the relationship between systolic and diastolic blood pressure."
   ]
  },
  {
   "cell_type": "code",
   "execution_count": 3,
   "id": "22499011",
   "metadata": {},
   "outputs": [],
   "source": [
    "#DIY"
   ]
  },
  {
   "cell_type": "code",
   "execution_count": null,
   "id": "0d49fce3",
   "metadata": {},
   "outputs": [],
   "source": []
  }
 ],
 "metadata": {
  "kernelspec": {
   "display_name": "Python 3 (ipykernel)",
   "language": "python",
   "name": "python3"
  },
  "language_info": {
   "codemirror_mode": {
    "name": "ipython",
    "version": 3
   },
   "file_extension": ".py",
   "mimetype": "text/x-python",
   "name": "python",
   "nbconvert_exporter": "python",
   "pygments_lexer": "ipython3",
   "version": "3.11.5"
  }
 },
 "nbformat": 4,
 "nbformat_minor": 5
}
