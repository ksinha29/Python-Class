{
 "cells": [
  {
   "cell_type": "markdown",
   "metadata": {},
   "source": [
    "## Basic of Python\n",
    "\n",
    "In this week (3rd and 4th fabruray) class,  we will Learn\n",
    "- Intruduction\n",
    "- Anaconda installation ( https://www.anaconda.com/download/ )\n",
    "- important library ( pandas and numpy) installation \n",
    "- Various Datatypes in Python\n",
    "- Variable \n",
    "- Variables Assigment\n",
    "- Print Formatting\n"
   ]
  },
  {
   "cell_type": "markdown",
   "metadata": {},
   "source": [
    "## Various DataTypes in Python\n",
    "\n",
    "Python supports a variety of data types, allowing for versatile data manipulation and representation. Here are some fundamental data types in Python:\n",
    "\n",
    "Numeric Types:\n",
    "\n",
    "int: Integer data type for whole numbers.\n",
    "age = 25\n",
    "\n",
    "float: Floating-point data type for numbers with decimal points.\n",
    "temperature = 98.6\n",
    "\n",
    "complex: Complex number data type.\n",
    "complex_number = 2 + 3j\n",
    "\n",
    "Sequence Types:\n",
    "str: String data type for representing text.\n",
    "name = \"John\"\n",
    "\n",
    "list: Ordered and mutable sequence of elements.\n",
    "numbers = [1, 2, 3, 4, 5]\n",
    "\n",
    "tuple: Ordered and immutable sequence of elements.\n",
    "coordinates = (10, 20)\n",
    "\n",
    "Set Types:\n",
    "\n",
    "set: Unordered collection of unique elements.\n",
    "unique_numbers = {1, 2, 3, 4, 5}\n",
    "\n",
    "frozenset: Immutable version of a set.\n",
    "frozen_numbers = frozenset([1, 2, 3, 4, 5])\n",
    "\n",
    "Mapping Type:\n",
    "dict: Dictionary data type for key-value pairs.\n",
    "student = {'name': 'Alice', 'age': 21, 'grade': 'A'}\n",
    "\n",
    "Boolean Type:\n",
    "bool: Boolean data type representing True or False.\n",
    "is_adult = True\n",
    "\n",
    "None Type:\n",
    "None: Special data type representing the absence of a value or a null value.\n",
    "result = None\n",
    "\n",
    "Special Types:\n",
    "bytes: Immutable sequence of bytes.\n",
    "binary_data = b'hello'\n",
    "bytearray: Mutable sequence of bytes.\n",
    "\n",
    "mutable_binary_data = bytearray(b'world')\n",
    "\n",
    "These data types serve as the building blocks for constructing complex data structures and implementing various algorithms in Python. Understanding them is crucial for effective programming in the language."
   ]
  },
  {
   "cell_type": "markdown",
   "metadata": {},
   "source": [
    "# To install a Python library, you typically use the package manager called pip. #Here are the general steps:\n",
    "###"
   ]
  },
  {
   "cell_type": "markdown",
   "metadata": {},
   "source": [
    "# pip install pandas"
   ]
  },
  {
   "cell_type": "code",
   "execution_count": 1,
   "metadata": {
    "scrolled": true
   },
   "outputs": [
    {
     "name": "stdout",
     "output_type": "stream",
     "text": [
      "Requirement already satisfied: pandas in c:\\users\\hp\\anaconda3\\lib\\site-packages (2.0.3)\n",
      "Requirement already satisfied: python-dateutil>=2.8.2 in c:\\users\\hp\\anaconda3\\lib\\site-packages (from pandas) (2.8.2)\n",
      "Requirement already satisfied: pytz>=2020.1 in c:\\users\\hp\\anaconda3\\lib\\site-packages (from pandas) (2023.3.post1)\n",
      "Requirement already satisfied: tzdata>=2022.1 in c:\\users\\hp\\anaconda3\\lib\\site-packages (from pandas) (2023.3)\n",
      "Requirement already satisfied: numpy>=1.21.0 in c:\\users\\hp\\anaconda3\\lib\\site-packages (from pandas) (1.24.3)\n",
      "Requirement already satisfied: six>=1.5 in c:\\users\\hp\\anaconda3\\lib\\site-packages (from python-dateutil>=2.8.2->pandas) (1.16.0)\n",
      "Note: you may need to restart the kernel to use updated packages.\n"
     ]
    }
   ],
   "source": [
    "#pip install pandas"
   ]
  },
  {
   "cell_type": "markdown",
   "metadata": {},
   "source": [
    "# pip install numpy"
   ]
  },
  {
   "cell_type": "code",
   "execution_count": 1,
   "metadata": {},
   "outputs": [],
   "source": [
    "#pip install numpy\n",
    "import pandas as pd \n",
    "import numpy as np"
   ]
  },
  {
   "cell_type": "markdown",
   "metadata": {},
   "source": [
    "# Python World\n",
    "\n",
    "## Welcome to Python Learning world\n",
    "\n",
    "\n",
    "- Datatype "
   ]
  },
  {
   "cell_type": "code",
   "execution_count": 11,
   "metadata": {},
   "outputs": [
    {
     "name": "stdout",
     "output_type": "stream",
     "text": [
      "<class 'int'>\n"
     ]
    }
   ],
   "source": [
    "#Numeric Types:\n",
    "#int: Integer data type for whole numbers.\n",
    "\n",
    "age = 25\n",
    "data_type = type(age)\n",
    "print(data_type)"
   ]
  },
  {
   "cell_type": "code",
   "execution_count": 12,
   "metadata": {},
   "outputs": [
    {
     "name": "stdout",
     "output_type": "stream",
     "text": [
      "<class 'float'>\n"
     ]
    }
   ],
   "source": [
    "#float: Floating-point data type for numbers with decimal points. \n",
    "temperature = 98.6\n",
    "data_type = type(temperature)\n",
    "print(data_type)"
   ]
  },
  {
   "cell_type": "code",
   "execution_count": 13,
   "metadata": {},
   "outputs": [
    {
     "name": "stdout",
     "output_type": "stream",
     "text": [
      "<class 'complex'>\n"
     ]
    }
   ],
   "source": [
    "#complex: Complex number data type. \n",
    "complex_number = 2 + 3j\n",
    "data_type = type(complex_number)\n",
    "print(data_type)"
   ]
  },
  {
   "cell_type": "code",
   "execution_count": 14,
   "metadata": {},
   "outputs": [
    {
     "name": "stdout",
     "output_type": "stream",
     "text": [
      "<class 'str'>\n"
     ]
    }
   ],
   "source": [
    "#Sequence Types: str: String data type for representing text. \n",
    "name = \"John\"\n",
    "data_type = type(name)\n",
    "print(data_type)"
   ]
  },
  {
   "cell_type": "code",
   "execution_count": 15,
   "metadata": {},
   "outputs": [
    {
     "name": "stdout",
     "output_type": "stream",
     "text": [
      "<class 'list'>\n"
     ]
    }
   ],
   "source": [
    "#list: Ordered and mutable sequence of elements. \n",
    "numbers = [1, 2, 3, 4, 5]\n",
    "data_type = type(numbers)\n",
    "print(data_type)"
   ]
  },
  {
   "cell_type": "code",
   "execution_count": 16,
   "metadata": {},
   "outputs": [
    {
     "name": "stdout",
     "output_type": "stream",
     "text": [
      "<class 'tuple'>\n"
     ]
    }
   ],
   "source": [
    "#tuple: Ordered and immutable sequence of elements. \n",
    "coordinates = (10, 20)\n",
    "data_type = type(coordinates)\n",
    "print(data_type)"
   ]
  },
  {
   "cell_type": "code",
   "execution_count": 17,
   "metadata": {},
   "outputs": [
    {
     "name": "stdout",
     "output_type": "stream",
     "text": [
      "<class 'set'>\n"
     ]
    }
   ],
   "source": [
    "#Set Types:\n",
    "#set: Unordered collection of unique elements. \n",
    "unique_numbers = {1, 2, 3, 4, 5}\n",
    "data_type = type(unique_numbers)\n",
    "print(data_type)"
   ]
  },
  {
   "cell_type": "code",
   "execution_count": 18,
   "metadata": {},
   "outputs": [
    {
     "name": "stdout",
     "output_type": "stream",
     "text": [
      "<class 'frozenset'>\n"
     ]
    }
   ],
   "source": [
    "#frozenset: Immutable version of a set. \n",
    "frozen_numbers = frozenset([1, 2, 3, 4, 5])\n",
    "data_type = type(frozen_numbers)\n",
    "print(data_type)"
   ]
  },
  {
   "cell_type": "code",
   "execution_count": 19,
   "metadata": {},
   "outputs": [
    {
     "name": "stdout",
     "output_type": "stream",
     "text": [
      "<class 'dict'>\n"
     ]
    }
   ],
   "source": [
    "#Mapping Type: dict: Dictionary data type for key-value pairs. \n",
    "student = {'name': 'Alice', 'age': 21, 'grade': 'A'}\n",
    "data_type = type(student)\n",
    "print(data_type)"
   ]
  },
  {
   "cell_type": "code",
   "execution_count": 20,
   "metadata": {},
   "outputs": [
    {
     "name": "stdout",
     "output_type": "stream",
     "text": [
      "<class 'bool'>\n"
     ]
    }
   ],
   "source": [
    "#Boolean Type: bool: Boolean data type representing True or False. \n",
    "is_adult = True\n",
    "data_type = type(is_adult)\n",
    "print(data_type)"
   ]
  },
  {
   "cell_type": "code",
   "execution_count": 21,
   "metadata": {},
   "outputs": [
    {
     "name": "stdout",
     "output_type": "stream",
     "text": [
      "<class 'NoneType'>\n"
     ]
    }
   ],
   "source": [
    "#None Type: None: Special data type representing the absence of a value or a null value. \n",
    "result = None\n",
    "data_type = type(result)\n",
    "print(data_type)"
   ]
  },
  {
   "cell_type": "code",
   "execution_count": 23,
   "metadata": {},
   "outputs": [
    {
     "name": "stdout",
     "output_type": "stream",
     "text": [
      "<class 'bytes'>\n"
     ]
    }
   ],
   "source": [
    "#Special Types: bytes: Immutable sequence of bytes. \n",
    "binary_data = b'hello' \n",
    "data_type = type(binary_data)\n",
    "print(data_type)\n"
   ]
  },
  {
   "cell_type": "code",
   "execution_count": 24,
   "metadata": {
    "scrolled": true
   },
   "outputs": [
    {
     "name": "stdout",
     "output_type": "stream",
     "text": [
      "<class 'bytearray'>\n"
     ]
    }
   ],
   "source": [
    "mutable_binary_data = bytearray(b'world')\n",
    "data_type = type(mutable_binary_data)\n",
    "print(data_type)"
   ]
  },
  {
   "cell_type": "markdown",
   "metadata": {},
   "source": [
    "# Variable\n",
    "\n",
    "In Python, a variable is a named storage location used to store data values. Variables are created when you assign a value to them using the assignment operator (=). Here are some key points about Python variables:"
   ]
  },
  {
   "cell_type": "markdown",
   "metadata": {},
   "source": [
    "# Variable Naming Rules:\n",
    "\n",
    "Variable names can contain letters (a-z, A-Z), numbers (0-9), and underscores (_).\n",
    "They cannot start with a number.\n",
    "Python is case-sensitive, so myVar and myvar are considered different variables.\n",
    "Variable names should be descriptive and follow the PEP 8 style guide.\n",
    "Variable Assignment:\n",
    "\n",
    "Use the = operator to assign a value to a variable.\n",
    "The type of the variable is dynamically determined based on the assigned value."
   ]
  },
  {
   "cell_type": "markdown",
   "metadata": {},
   "source": [
    "# Variable Assigment"
   ]
  },
  {
   "cell_type": "code",
   "execution_count": 27,
   "metadata": {},
   "outputs": [
    {
     "name": "stdout",
     "output_type": "stream",
     "text": [
      "10\n",
      "John\n",
      "True\n"
     ]
    }
   ],
   "source": [
    "x = 10           # integer\n",
    "name = \"John\"    # string\n",
    "is_valid = True   # boolean\n",
    "print(x)\n",
    "print(name)\n",
    "print(is_valid)"
   ]
  },
  {
   "cell_type": "code",
   "execution_count": 3,
   "metadata": {},
   "outputs": [
    {
     "name": "stdout",
     "output_type": "stream",
     "text": [
      "10\n",
      "20\n"
     ]
    }
   ],
   "source": [
    "x = 10\n",
    "X=20\n",
    "print(x)\n",
    "print(X)"
   ]
  },
  {
   "cell_type": "markdown",
   "metadata": {},
   "source": [
    "# Multiple Assignment:\n",
    "\n",
    "#You can assign values to multiple variables in a single line."
   ]
  },
  {
   "cell_type": "markdown",
   "metadata": {},
   "source": [
    "### Variable Assigment"
   ]
  },
  {
   "cell_type": "code",
   "execution_count": 5,
   "metadata": {},
   "outputs": [
    {
     "name": "stdout",
     "output_type": "stream",
     "text": [
      "1\n",
      "2\n",
      "3\n"
     ]
    }
   ],
   "source": [
    "a, b, c = 1, 2, 3\n",
    "print(a)\n",
    "print(b)\n",
    "print(c)"
   ]
  },
  {
   "cell_type": "markdown",
   "metadata": {},
   "source": [
    "# Variable Types:\n",
    "\n",
    "Python is dynamically typed, meaning you don't need to explicitly declare the variable type.\n",
    "You can use the type() function to check the type of a variable."
   ]
  },
  {
   "cell_type": "code",
   "execution_count": 6,
   "metadata": {},
   "outputs": [
    {
     "name": "stdout",
     "output_type": "stream",
     "text": [
      "<class 'int'>\n"
     ]
    }
   ],
   "source": [
    "age = 25\n",
    "print(type(age))  # Output: <class 'int'>\n"
   ]
  },
  {
   "cell_type": "markdown",
   "metadata": {},
   "source": [
    "# Variable Reassignment:\n",
    "\n",
    "You can change the value of a variable by reassigning it."
   ]
  },
  {
   "cell_type": "code",
   "execution_count": 8,
   "metadata": {},
   "outputs": [
    {
     "name": "stdout",
     "output_type": "stream",
     "text": [
      "hello\n"
     ]
    }
   ],
   "source": [
    "x = 5\n",
    "x = \"hello\"\n",
    "print(x)"
   ]
  },
  {
   "cell_type": "code",
   "execution_count": 10,
   "metadata": {},
   "outputs": [
    {
     "name": "stdout",
     "output_type": "stream",
     "text": [
      "200\n",
      "0.5\n",
      "10\n",
      "200.5\n",
      "10000\n"
     ]
    }
   ],
   "source": [
    "a=10\n",
    "b=20\n",
    "print(a*b)\n",
    "print(a/b)\n",
    "print(a%b)\n",
    "print((a*b)+(a/b)) ##BODMAS\n",
    "print(a**4)\n",
    "\n",
    "#a*a*a*a*"
   ]
  },
  {
   "cell_type": "markdown",
   "metadata": {},
   "source": [
    "# Deleting Variables:\n",
    "\n",
    "You can use the del statement to delete a variable."
   ]
  },
  {
   "cell_type": "code",
   "execution_count": 12,
   "metadata": {},
   "outputs": [
    {
     "ename": "NameError",
     "evalue": "name 'y' is not defined",
     "output_type": "error",
     "traceback": [
      "\u001b[1;31m---------------------------------------------------------------------------\u001b[0m",
      "\u001b[1;31mNameError\u001b[0m                                 Traceback (most recent call last)",
      "Cell \u001b[1;32mIn[12], line 3\u001b[0m\n\u001b[0;32m      1\u001b[0m y \u001b[38;5;241m=\u001b[39m \u001b[38;5;241m10\u001b[39m\n\u001b[0;32m      2\u001b[0m \u001b[38;5;28;01mdel\u001b[39;00m y\n\u001b[1;32m----> 3\u001b[0m \u001b[38;5;28mprint\u001b[39m(y)\n",
      "\u001b[1;31mNameError\u001b[0m: name 'y' is not defined"
     ]
    }
   ],
   "source": [
    "y = 10\n",
    "del y\n",
    "print(y)\n"
   ]
  },
  {
   "cell_type": "markdown",
   "metadata": {},
   "source": [
    "# Global and Local Variables:\n",
    "\n",
    "Variables defined outside functions or classes are global.\n",
    "Variables defined within a function or class are local to that scope."
   ]
  },
  {
   "cell_type": "code",
   "execution_count": 13,
   "metadata": {},
   "outputs": [],
   "source": [
    "global_var = 100\n",
    "\n",
    "def my_function():\n",
    "    local_var = 50\n"
   ]
  },
  {
   "cell_type": "code",
   "execution_count": 14,
   "metadata": {},
   "outputs": [
    {
     "name": "stdout",
     "output_type": "stream",
     "text": [
      "100\n"
     ]
    }
   ],
   "source": [
    "print(global_var)"
   ]
  },
  {
   "cell_type": "code",
   "execution_count": 15,
   "metadata": {},
   "outputs": [
    {
     "ename": "NameError",
     "evalue": "name 'local_var' is not defined",
     "output_type": "error",
     "traceback": [
      "\u001b[1;31m---------------------------------------------------------------------------\u001b[0m",
      "\u001b[1;31mNameError\u001b[0m                                 Traceback (most recent call last)",
      "Cell \u001b[1;32mIn[15], line 1\u001b[0m\n\u001b[1;32m----> 1\u001b[0m \u001b[38;5;28mprint\u001b[39m(local_var)\n",
      "\u001b[1;31mNameError\u001b[0m: name 'local_var' is not defined"
     ]
    }
   ],
   "source": [
    "print(local_var)"
   ]
  },
  {
   "cell_type": "markdown",
   "metadata": {},
   "source": [
    "# To print a local variable in Python, you can use the print() function within the scope (block of code) where the variable is defined. Here's an example:"
   ]
  },
  {
   "cell_type": "code",
   "execution_count": 17,
   "metadata": {},
   "outputs": [
    {
     "name": "stdout",
     "output_type": "stream",
     "text": [
      "Local Variable: 50\n"
     ]
    }
   ],
   "source": [
    "def myfirstfunction():\n",
    "    local_var = 50\n",
    "    print(\"Local Variable:\", local_var)\n",
    "\n",
    "# Call the function\n",
    "myfirstfunction()\n"
   ]
  },
  {
   "cell_type": "markdown",
   "metadata": {},
   "source": [
    "# Print formatting in Python allows you to control how data is displayed when using the print() function. There are multiple ways to format output in Python, and here are some common methods:"
   ]
  },
  {
   "cell_type": "markdown",
   "metadata": {},
   "source": [
    "# String Concatenation:\n",
    "\n",
    "You can concatenate strings using the + operator."
   ]
  },
  {
   "cell_type": "code",
   "execution_count": 20,
   "metadata": {},
   "outputs": [
    {
     "name": "stdout",
     "output_type": "stream",
     "text": [
      "Name: Alice, Age: 25\n"
     ]
    }
   ],
   "source": [
    "name = \"Alice\"\n",
    "age = 25\n",
    "print(\"Name: \" + name + \", Age: \" + str(age))"
   ]
  },
  {
   "cell_type": "markdown",
   "metadata": {},
   "source": [
    "# String Formatting with % operator:\n",
    "\n",
    "This method uses the % operator to format strings."
   ]
  },
  {
   "cell_type": "code",
   "execution_count": 26,
   "metadata": {},
   "outputs": [
    {
     "name": "stdout",
     "output_type": "stream",
     "text": [
      "Name: Alice, Age: 25\n"
     ]
    }
   ],
   "source": [
    "name = \"Alice\"\n",
    "age = 25\n",
    "print(\"Name: %s, Age: %d\" % (name, age))\n",
    "# %s is a placeholder for strings, and %d is a placeholder for integers.\n"
   ]
  },
  {
   "cell_type": "markdown",
   "metadata": {},
   "source": [
    "# String Formatting with format() method:\n",
    "\n",
    "The format() method provides more flexibility."
   ]
  },
  {
   "cell_type": "code",
   "execution_count": 32,
   "metadata": {},
   "outputs": [
    {
     "name": "stdout",
     "output_type": "stream",
     "text": [
      "Name: Alice, Age: 25\n"
     ]
    }
   ],
   "source": [
    "name = \"Alice\"\n",
    "age = 25\n",
    "print(\"Name: {}, Age: {}\".format(name, age))\n",
    "#You can use {} as placeholders, and the format() method replaces them with the specified values."
   ]
  },
  {
   "cell_type": "markdown",
   "metadata": {},
   "source": [
    "# String Formatting with f-strings (Python 3.6 and later):\n",
    "\n",
    "f-strings provide a concise way to format strings by placing expressions inside curly braces."
   ]
  },
  {
   "cell_type": "code",
   "execution_count": 33,
   "metadata": {},
   "outputs": [
    {
     "name": "stdout",
     "output_type": "stream",
     "text": [
      "Name: Alice, Age: 25\n"
     ]
    }
   ],
   "source": [
    "name = \"Alice\"\n",
    "age = 25\n",
    "print(f\"Name: {name}, Age: {age}\")\n",
    "#The f prefix indicates that the string is an f-string."
   ]
  },
  {
   "cell_type": "markdown",
   "metadata": {},
   "source": [
    "# Formatted String Literals (f-strings) with expressions (Python 3.8 and later):\n",
    "\n",
    "f-strings support expressions within curly braces."
   ]
  },
  {
   "cell_type": "code",
   "execution_count": 35,
   "metadata": {},
   "outputs": [
    {
     "name": "stdout",
     "output_type": "stream",
     "text": [
      "The sum of 5 and 10 is 15\n",
      "The sub of 10 and 5 is 5\n"
     ]
    }
   ],
   "source": [
    "x = 5\n",
    "y = 10\n",
    "print(f\"The sum of {x} and {y} is {x + y}\")\n",
    "print(f\"The sub of {y} and {x} is {y - x}\")\n",
    "#Expressions inside the curly braces are evaluated and formatted in the resulting string."
   ]
  },
  {
   "cell_type": "code",
   "execution_count": null,
   "metadata": {},
   "outputs": [],
   "source": []
  }
 ],
 "metadata": {
  "kernelspec": {
   "display_name": "Python 3 (ipykernel)",
   "language": "python",
   "name": "python3"
  },
  "language_info": {
   "codemirror_mode": {
    "name": "ipython",
    "version": 3
   },
   "file_extension": ".py",
   "mimetype": "text/x-python",
   "name": "python",
   "nbconvert_exporter": "python",
   "pygments_lexer": "ipython3",
   "version": "3.11.5"
  }
 },
 "nbformat": 4,
 "nbformat_minor": 2
}
