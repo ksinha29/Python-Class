{
 "cells": [
  {
   "cell_type": "markdown",
   "id": "702566f3",
   "metadata": {},
   "source": [
    "# deleting duplicate "
   ]
  },
  {
   "cell_type": "markdown",
   "id": "165d8bbd",
   "metadata": {},
   "source": [
    "# let's consider a practical use case where you might need to delete duplicates from a dataset. Suppose you're building a system to analyze customer orders from an e-commerce website. Sometimes, due to various reasons, duplicate orders may exist in the system. To ensure accurate analysis and reporting, it's essential to remove these duplicates from the dataset before further processing."
   ]
  },
  {
   "cell_type": "markdown",
   "id": "e46406e0",
   "metadata": {},
   "source": [
    "# Explanation:\n",
    "\n",
    "The remove_duplicates function takes a list of orders as input.\n",
    "\n",
    "It initializes an empty list unique_orders to store unique orders and a set seen_order_ids to keep track of seen order IDs.\n",
    "\n",
    "It iterates through each order in the input list.\n",
    "\n",
    "For each order, it extracts the order ID.\n",
    "\n",
    "If the order ID is not present in the set seen_order_ids, it means this order hasn't been seen before. So, it adds the order to the unique_orders list and adds the order ID to the set seen_order_ids.\n",
    "\n",
    "Finally, it returns the list of unique orders.\n",
    "\n",
    "In the example usage, we create a list of orders containing some duplicates. We then call the remove_duplicates function to get the list of unique orders and print the result.\n"
   ]
  },
  {
   "cell_type": "code",
   "execution_count": null,
   "id": "48ae637b",
   "metadata": {},
   "outputs": [],
   "source": []
  },
  {
   "cell_type": "code",
   "execution_count": null,
   "id": "fea0c211",
   "metadata": {},
   "outputs": [],
   "source": []
  },
  {
   "cell_type": "code",
   "execution_count": 1,
   "id": "c88c0914",
   "metadata": {},
   "outputs": [],
   "source": [
    "def remove_duplicates(orders):\n",
    "    \"\"\"\n",
    "    Removes duplicate orders from a list of orders.\n",
    "\n",
    "    Args:\n",
    "    orders (list): A list of orders where each order is represented as a dictionary.\n",
    "\n",
    "    Returns:\n",
    "    list: A list of unique orders.\n",
    "    \"\"\"\n",
    "    unique_orders = []\n",
    "    seen_order_ids = set()\n",
    "\n",
    "    for order in orders:\n",
    "        order_id = order['order_id']\n",
    "        if order_id not in seen_order_ids:\n",
    "            unique_orders.append(order)\n",
    "            seen_order_ids.add(order_id)\n",
    "\n",
    "    return unique_orders"
   ]
  },
  {
   "cell_type": "code",
   "execution_count": 2,
   "id": "5da4f2fe",
   "metadata": {},
   "outputs": [],
   "source": [
    "# Example usage:\n",
    "orders = [\n",
    "    {'order_id': 101, 'product': 'Laptop', 'quantity': 1},\n",
    "    {'order_id': 102, 'product': 'Mouse', 'quantity': 2},\n",
    "    {'order_id': 101, 'product': 'Laptop', 'quantity': 1},  # Duplicate order\n",
    "    {'order_id': 103, 'product': 'Keyboard', 'quantity': 1},\n",
    "    {'order_id': 102, 'product': 'Mouse', 'quantity': 2},  # Duplicate order\n",
    "]"
   ]
  },
  {
   "cell_type": "code",
   "execution_count": 4,
   "id": "ca46e2f0",
   "metadata": {},
   "outputs": [
    {
     "name": "stdout",
     "output_type": "stream",
     "text": [
      "[{'order_id': 101, 'product': 'Laptop', 'quantity': 1}, {'order_id': 102, 'product': 'Mouse', 'quantity': 2}, {'order_id': 103, 'product': 'Keyboard', 'quantity': 1}]\n"
     ]
    }
   ],
   "source": [
    "unique_orders = remove_duplicates(orders)\n",
    "print(unique_orders)"
   ]
  },
  {
   "cell_type": "markdown",
   "id": "81c8d05b",
   "metadata": {},
   "source": [
    "# drop_duplicates() is a pandas function used to remove duplicate rows from a DataFrame. Here's an example Python code using drop_duplicates() along with an explanation:"
   ]
  },
  {
   "cell_type": "code",
   "execution_count": 6,
   "id": "20632d7d",
   "metadata": {},
   "outputs": [],
   "source": [
    "import pandas as pd"
   ]
  },
  {
   "cell_type": "code",
   "execution_count": 7,
   "id": "7032b35b",
   "metadata": {},
   "outputs": [
    {
     "name": "stdout",
     "output_type": "stream",
     "text": [
      "Original DataFrame:\n",
      "   A  B\n",
      "0  1  a\n",
      "1  2  b\n",
      "2  3  c\n",
      "3  4  d\n",
      "4  2  b\n",
      "5  3  c\n",
      "6  5  e\n",
      "7  6  f\n",
      "8  7  g\n",
      "9  7  g\n"
     ]
    }
   ],
   "source": [
    "# Creating a sample DataFrame with duplicate rows\n",
    "data = {\n",
    "    'A': [1, 2, 3, 4, 2, 3, 5, 6, 7, 7],\n",
    "    'B': ['a', 'b', 'c', 'd', 'b', 'c', 'e', 'f', 'g', 'g']\n",
    "}\n",
    "df = pd.DataFrame(data)\n",
    "print(\"Original DataFrame:\")\n",
    "print(df)"
   ]
  },
  {
   "cell_type": "code",
   "execution_count": 8,
   "id": "d8352340",
   "metadata": {},
   "outputs": [],
   "source": [
    "# Removing duplicate rows using drop_duplicates()\n",
    "unique_df = df.drop_duplicates()"
   ]
  },
  {
   "cell_type": "code",
   "execution_count": 9,
   "id": "6fa53cc8",
   "metadata": {},
   "outputs": [
    {
     "name": "stdout",
     "output_type": "stream",
     "text": [
      "\n",
      "DataFrame after removing duplicates:\n",
      "   A  B\n",
      "0  1  a\n",
      "1  2  b\n",
      "2  3  c\n",
      "3  4  d\n",
      "6  5  e\n",
      "7  6  f\n",
      "8  7  g\n"
     ]
    }
   ],
   "source": [
    "# Displaying the DataFrame after removing duplicates\n",
    "print(\"\\nDataFrame after removing duplicates:\")\n",
    "print(unique_df)"
   ]
  },
  {
   "cell_type": "markdown",
   "id": "05cc9f9c",
   "metadata": {},
   "source": [
    "# Explanation:\n",
    "\n",
    "Importing pandas:\n",
    "\n",
    "import pandas as pd imports the pandas library under the alias pd, making it accessible as pd.\n",
    "Creating Sample DataFrame:\n",
    "\n",
    "A sample DataFrame df is created from a dictionary data. This DataFrame contains two columns 'A' and 'B' with some duplicate rows.\n",
    "Printing Original DataFrame:\n",
    "\n",
    "The original DataFrame df is printed to display its content before removing duplicates.\n",
    "Removing Duplicates using drop_duplicates():\n",
    "\n",
    "drop_duplicates() is called on the DataFrame df. By default, it removes rows where all columns have the same values.\n",
    "The resulting DataFrame with duplicates removed is stored in unique_df.\n",
    "Printing DataFrame After Removing Duplicates:\n",
    "\n",
    "The DataFrame unique_df containing the DataFrame with duplicates removed is printed to display the result."
   ]
  },
  {
   "cell_type": "code",
   "execution_count": null,
   "id": "b86c3189",
   "metadata": {},
   "outputs": [],
   "source": []
  },
  {
   "cell_type": "code",
   "execution_count": null,
   "id": "8f281eba",
   "metadata": {},
   "outputs": [],
   "source": []
  }
 ],
 "metadata": {
  "kernelspec": {
   "display_name": "Python 3 (ipykernel)",
   "language": "python",
   "name": "python3"
  },
  "language_info": {
   "codemirror_mode": {
    "name": "ipython",
    "version": 3
   },
   "file_extension": ".py",
   "mimetype": "text/x-python",
   "name": "python",
   "nbconvert_exporter": "python",
   "pygments_lexer": "ipython3",
   "version": "3.11.5"
  }
 },
 "nbformat": 4,
 "nbformat_minor": 5
}
