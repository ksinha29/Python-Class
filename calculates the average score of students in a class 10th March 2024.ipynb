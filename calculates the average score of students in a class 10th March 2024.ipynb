{
 "cells": [
  {
   "cell_type": "markdown",
   "id": "71e2d64c",
   "metadata": {},
   "source": [
    "# let's go through a real-time exercise. Let's say we want to create a simple program that calculates the average score of students in a class. The program will take input for each student's score, calculate the average, and provide a grade based on the average."
   ]
  },
  {
   "cell_type": "markdown",
   "id": "c2f8f059",
   "metadata": {},
   "source": [
    "# It starts by asking the user for the number of students in the class.\n",
    "Then, it enters a loop to get the score for each student.\n",
    "The scores are stored in a list.\n",
    "The program calculates the average score using the calculate_average function.\n",
    "The assign_grade function is used to determine the grade based on the average score.\n",
    "Finally, the program displays the average score and grade."
   ]
  },
  {
   "cell_type": "code",
   "execution_count": 2,
   "id": "ba8b850e",
   "metadata": {},
   "outputs": [
    {
     "name": "stdout",
     "output_type": "stream",
     "text": [
      "Enter the number of students: 10\n",
      "Enter the score for student 1: 90\n",
      "Enter the score for student 2: 89\n",
      "Enter the score for student 3: 76\n",
      "Enter the score for student 4: 54\n",
      "Enter the score for student 5: 32\n",
      "Enter the score for student 6: 89\n",
      "Enter the score for student 7: 89\n",
      "Enter the score for student 8: 76\n",
      "Enter the score for student 9: 54\n",
      "Enter the score for student 10: 6\n",
      "\n",
      "Average Score: 65.50\n",
      "Grade: D\n"
     ]
    }
   ],
   "source": [
    "def calculate_average(scores):\n",
    "    total_score = sum(scores)\n",
    "    return total_score / len(scores)\n",
    "\n",
    "def assign_grade(average_score):\n",
    "    if average_score >= 90:\n",
    "        return 'A'\n",
    "    elif average_score >= 80:\n",
    "        return 'B'\n",
    "    elif average_score >= 70:\n",
    "        return 'C'\n",
    "    elif average_score >= 60:\n",
    "        return 'D'\n",
    "    else:\n",
    "        return 'F'\n",
    "\n",
    "def main():\n",
    "    # Ask the user for the number of students\n",
    "    num_students = int(input(\"Enter the number of students: \"))\n",
    "\n",
    "    # Initialize an empty list to store scores\n",
    "    scores = []\n",
    "\n",
    "    # Loop to get scores for each student\n",
    "    for i in range(1, num_students + 1):\n",
    "        score = float(input(f\"Enter the score for student {i}: \"))\n",
    "        scores.append(score)\n",
    "\n",
    "    # Calculate the average score\n",
    "    average_score = calculate_average(scores)\n",
    "\n",
    "    # Assign a grade based on the average score\n",
    "    grade = assign_grade(average_score)\n",
    "\n",
    "    # Display the results\n",
    "    print(f\"\\nAverage Score: {average_score:.2f}\")\n",
    "    print(f\"Grade: {grade}\")\n",
    "\n",
    "if __name__ == \"__main__\":\n",
    "    main()\n"
   ]
  },
  {
   "cell_type": "code",
   "execution_count": null,
   "id": "1d0a4c00",
   "metadata": {},
   "outputs": [],
   "source": []
  }
 ],
 "metadata": {
  "kernelspec": {
   "display_name": "Python 3 (ipykernel)",
   "language": "python",
   "name": "python3"
  },
  "language_info": {
   "codemirror_mode": {
    "name": "ipython",
    "version": 3
   },
   "file_extension": ".py",
   "mimetype": "text/x-python",
   "name": "python",
   "nbconvert_exporter": "python",
   "pygments_lexer": "ipython3",
   "version": "3.11.5"
  }
 },
 "nbformat": 4,
 "nbformat_minor": 5
}
