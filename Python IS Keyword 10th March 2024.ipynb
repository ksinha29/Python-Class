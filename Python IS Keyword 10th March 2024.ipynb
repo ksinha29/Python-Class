{
 "cells": [
  {
   "cell_type": "markdown",
   "metadata": {},
   "source": [
    "# In Python, == is used for equality comparison, whereas is is used for identity comparison.\n",
    "\n",
    "== (equality): This operator checks if the values on both sides are equal. It compares the content of the objects, not their identity."
   ]
  },
  {
   "cell_type": "code",
   "execution_count": 1,
   "metadata": {},
   "outputs": [
    {
     "name": "stdout",
     "output_type": "stream",
     "text": [
      "True\n"
     ]
    }
   ],
   "source": [
    "a = [1, 2, 3]\n",
    "b = [1, 2, 3]\n",
    "\n",
    "print(a == b)  # True, because the contents are the same"
   ]
  },
  {
   "cell_type": "markdown",
   "metadata": {},
   "source": [
    "# is (identity): This operator checks if the objects on both sides refer to the same memory location. It compares the identity of the objects."
   ]
  },
  {
   "cell_type": "code",
   "execution_count": 2,
   "metadata": {},
   "outputs": [
    {
     "name": "stdout",
     "output_type": "stream",
     "text": [
      "True\n"
     ]
    }
   ],
   "source": [
    "a = [1, 2, 3]\n",
    "b = a\n",
    "\n",
    "print(a is b)  # True, because a and b refer to the same object"
   ]
  },
  {
   "cell_type": "code",
   "execution_count": 3,
   "metadata": {},
   "outputs": [
    {
     "name": "stdout",
     "output_type": "stream",
     "text": [
      "True\n"
     ]
    }
   ],
   "source": [
    "a = [1, 2, 3]\n",
    "b = [1, 2, 3]\n",
    "\n",
    "# Equality check\n",
    "result = a == b\n",
    "print(result)  # True, because the contents are the same"
   ]
  },
  {
   "cell_type": "markdown",
   "metadata": {},
   "source": [
    "# Using is for Identity Comparison:\n",
    "The is operator checks whether two objects refer to the exact same memory location."
   ]
  },
  {
   "cell_type": "code",
   "execution_count": 4,
   "metadata": {},
   "outputs": [
    {
     "name": "stdout",
     "output_type": "stream",
     "text": [
      "True\n"
     ]
    }
   ],
   "source": [
    "a = [1, 2, 3]\n",
    "b = a\n",
    "\n",
    "# Identity check\n",
    "result = a is b\n",
    "print(result)  # True, because a and b refer to the same object"
   ]
  },
  {
   "cell_type": "markdown",
   "metadata": {},
   "source": [
    "# Here, a is b returns True because both a and b refer to the same list object.\n",
    "Important Note:\n",
    "While == checks for equality based on the values, is checks for identity based on the memory location. Using == is more common for comparing values, while is is used when checking if two variables reference the exact same object in memory.\n",
    "\n",
    "It's essential to be cautious when using is with mutable objects (e.g., lists, dictionaries) because you may get unexpected results if the objects are modified or reassigned."
   ]
  },
  {
   "cell_type": "code",
   "execution_count": 8,
   "metadata": {},
   "outputs": [
    {
     "name": "stdout",
     "output_type": "stream",
     "text": [
      "False\n"
     ]
    }
   ],
   "source": [
    "x = [1, 2, 3]\n",
    "y = [1, 2, 3]\n",
    "\n",
    "# This may return False, as the interpreter may create separate objects for x and y\n",
    "print(x is y)"
   ]
  },
  {
   "cell_type": "code",
   "execution_count": 9,
   "metadata": {},
   "outputs": [
    {
     "name": "stdout",
     "output_type": "stream",
     "text": [
      "True\n"
     ]
    }
   ],
   "source": [
    "x = y\n",
    "print(x is y)"
   ]
  },
  {
   "cell_type": "markdown",
   "metadata": {},
   "source": [
    "# In general, prefer == for value comparison and use is only when you specifically need to check for object identity."
   ]
  },
  {
   "cell_type": "markdown",
   "metadata": {},
   "source": [
    "# Let's consider a real-time test case involving mutable objects and demonstrate the use of is and == in Python.\n",
    "\n",
    "Test Case: Caching of a List\n",
    "Suppose you have a function that generates a list of prime numbers and you want to optimize it by caching the result. We'll compare the use of is and == in implementing this caching mechanism."
   ]
  },
  {
   "cell_type": "markdown",
   "metadata": {},
   "source": [
    "# In this example:\n",
    "\n",
    "get_primes_cached_equal uses == for caching, ensuring that the lists are equal in terms of values.\n",
    "get_primes_cached_identity uses is for caching, ensuring that the lists are the exact same object in memory.\n",
    "The output will demonstrate how is and == behave differently in the context of caching. Keep in mind that in real-world scenarios, using == for caching is generally more appropriate, as it compares values and is less prone to unexpected behavior with mutable objects."
   ]
  },
  {
   "cell_type": "code",
   "execution_count": 15,
   "metadata": {},
   "outputs": [],
   "source": [
    "# Function to generate a list of prime numbers\n",
    "def generate_primes(n):\n",
    "    primes = []\n",
    "    for num in range(2, n + 1):\n",
    "        is_prime = all(num % i != 0 for i in range(2, int(num**0.5) + 1))\n",
    "        if is_prime:\n",
    "            primes.append(num)\n",
    "    return primes"
   ]
  },
  {
   "cell_type": "code",
   "execution_count": 16,
   "metadata": {},
   "outputs": [],
   "source": [
    "# Caching using ==\n",
    "def get_primes_cached_equal(n, cache={}):\n",
    "    if n in cache:\n",
    "        return cache[n]\n",
    "    else:\n",
    "        primes = generate_primes(n)\n",
    "        cache[n] = primes\n",
    "        return primes"
   ]
  },
  {
   "cell_type": "code",
   "execution_count": 17,
   "metadata": {},
   "outputs": [],
   "source": [
    "# Caching using is\n",
    "def get_primes_cached_identity(n, cache={}):\n",
    "    if n in cache:\n",
    "        return cache[n]\n",
    "    else:\n",
    "        primes = generate_primes(n)\n",
    "        cache[n] = primes\n",
    "        return primes\n",
    "\n"
   ]
  },
  {
   "cell_type": "code",
   "execution_count": 18,
   "metadata": {},
   "outputs": [
    {
     "data": {
      "text/plain": [
       "20"
      ]
     },
     "execution_count": 18,
     "metadata": {},
     "output_type": "execute_result"
    }
   ],
   "source": [
    "# Test the caching mechanisms\n",
    "n = 20\n",
    "n"
   ]
  },
  {
   "cell_type": "code",
   "execution_count": 19,
   "metadata": {},
   "outputs": [],
   "source": [
    "# Using ==\n",
    "result_equal_1 = get_primes_cached_equal(n)\n",
    "result_equal_2 = get_primes_cached_equal(n)"
   ]
  },
  {
   "cell_type": "code",
   "execution_count": 20,
   "metadata": {},
   "outputs": [],
   "source": [
    "# Using is\n",
    "result_identity_1 = get_primes_cached_identity(n)\n",
    "result_identity_2 = get_primes_cached_identity(n)"
   ]
  },
  {
   "cell_type": "code",
   "execution_count": 22,
   "metadata": {},
   "outputs": [
    {
     "name": "stdout",
     "output_type": "stream",
     "text": [
      "Using ==:\n",
      "True\n",
      "True\n"
     ]
    }
   ],
   "source": [
    "# Display the results\n",
    "print(\"Using ==:\")\n",
    "print(result_equal_1 is result_equal_2)  # True, because == compares values\n",
    "print(result_equal_1 == result_equal_2)  # True, values are equal"
   ]
  },
  {
   "cell_type": "code",
   "execution_count": 24,
   "metadata": {},
   "outputs": [
    {
     "name": "stdout",
     "output_type": "stream",
     "text": [
      "\n",
      "Using is:\n",
      "True\n",
      "True\n"
     ]
    }
   ],
   "source": [
    "print(\"\\nUsing is:\")\n",
    "print(result_identity_1 is result_identity_2)  # True, because is compares identity\n",
    "print(result_identity_1 == result_identity_2)  # True, values are equal"
   ]
  },
  {
   "cell_type": "code",
   "execution_count": null,
   "metadata": {},
   "outputs": [],
   "source": []
  }
 ],
 "metadata": {
  "kernelspec": {
   "display_name": "Python 3 (ipykernel)",
   "language": "python",
   "name": "python3"
  },
  "language_info": {
   "codemirror_mode": {
    "name": "ipython",
    "version": 3
   },
   "file_extension": ".py",
   "mimetype": "text/x-python",
   "name": "python",
   "nbconvert_exporter": "python",
   "pygments_lexer": "ipython3",
   "version": "3.11.5"
  }
 },
 "nbformat": 4,
 "nbformat_minor": 4
}
