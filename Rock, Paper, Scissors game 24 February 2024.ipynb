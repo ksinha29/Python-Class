{
 "cells": [
  {
   "cell_type": "markdown",
   "id": "a3234540",
   "metadata": {},
   "source": [
    "# Rock, Paper, Scissors game:\n",
    "\n",
    "\n",
    "The if __name__ == \"__main__\": block is a common idiom in Python that helps structure your code and ensures that certain parts of the code are only executed when the script is run directly, not when it is imported as a module in another script.\n",
    "\n",
    "Let me break down the purpose of this construct:\n",
    "\n",
    "if __name__ == \"__main__\":: This line checks whether the script is being run as the main program or if it is being imported as a module in another script. The special variable __name__ is a built-in variable in Python that represents the name of the current module. When a Python script is executed, __name__ is set to \"__main__\" if it is the main program being run.\n",
    "\n",
    "main(): If the script is being run as the main program (not imported as a module), the main() function is called. This is the entry point of your program where the main logic and execution start.\n",
    "    \n",
    "Rock, Paper, Scissors game:\n",
    "\n"
   ]
  },
  {
   "cell_type": "code",
   "execution_count": 1,
   "id": "05f60a4a",
   "metadata": {},
   "outputs": [
    {
     "name": "stdout",
     "output_type": "stream",
     "text": [
      "Welcome to Rock, Paper, Scissors!\n",
      "Enter Rock, Paper, or Scissors: rock\n",
      "You chose Rock.\n",
      "The computer chose Rock.\n",
      "It's a tie!\n",
      "Do you want to play again? (yes/no): yes\n",
      "Enter Rock, Paper, or Scissors: paper\n",
      "You chose Paper.\n",
      "The computer chose Paper.\n",
      "It's a tie!\n",
      "Do you want to play again? (yes/no): yes\n",
      "Enter Rock, Paper, or Scissors: rock\n",
      "You chose Rock.\n",
      "The computer chose Rock.\n",
      "It's a tie!\n",
      "Do you want to play again? (yes/no): yes\n",
      "Enter Rock, Paper, or Scissors: scissor\n",
      "Invalid choice. Please enter Rock, Paper, or Scissors.\n",
      "Enter Rock, Paper, or Scissors: scissors\n",
      "You chose Scissors.\n",
      "The computer chose Rock.\n",
      "You lose!\n",
      "Do you want to play again? (yes/no): no\n",
      "Thanks for playing! Goodbye.\n"
     ]
    }
   ],
   "source": [
    "import random\n",
    "\n",
    "def get_user_choice():\n",
    "    user_choice = input(\"Enter Rock, Paper, or Scissors: \").lower()\n",
    "    while user_choice not in ['rock', 'paper', 'scissors']:\n",
    "        print(\"Invalid choice. Please enter Rock, Paper, or Scissors.\")\n",
    "        user_choice = input(\"Enter Rock, Paper, or Scissors: \").lower()\n",
    "    return user_choice\n",
    "\n",
    "def get_computer_choice():\n",
    "    return random.choice(['rock', 'paper', 'scissors'])\n",
    "\n",
    "def determine_winner(user_choice, computer_choice):\n",
    "    if user_choice == computer_choice:\n",
    "        return \"It's a tie!\"\n",
    "    elif (user_choice == 'rock' and computer_choice == 'scissors') or \\\n",
    "         (user_choice == 'paper' and computer_choice == 'rock') or \\\n",
    "         (user_choice == 'scissors' and computer_choice == 'paper'):\n",
    "        return \"You win!\"\n",
    "    else:\n",
    "        return \"You lose!\"\n",
    "\n",
    "def main():\n",
    "    print(\"Welcome to Rock, Paper, Scissors!\")\n",
    "\n",
    "    while True:\n",
    "        user_choice = get_user_choice()\n",
    "        computer_choice = get_computer_choice()\n",
    "\n",
    "        print(f\"You chose {user_choice.capitalize()}.\")\n",
    "        print(f\"The computer chose {computer_choice.capitalize()}.\")\n",
    "\n",
    "        result = determine_winner(user_choice, computer_choice)\n",
    "        print(result)\n",
    "\n",
    "        play_again = input(\"Do you want to play again? (yes/no): \").lower()\n",
    "        if play_again != 'yes':\n",
    "            print(\"Thanks for playing! Goodbye.\")\n",
    "            break\n",
    "\n",
    "if __name__ == \"__main__\":\n",
    "    main()\n"
   ]
  },
  {
   "cell_type": "code",
   "execution_count": null,
   "id": "8ba4a4ea",
   "metadata": {},
   "outputs": [],
   "source": []
  }
 ],
 "metadata": {
  "kernelspec": {
   "display_name": "Python 3 (ipykernel)",
   "language": "python",
   "name": "python3"
  },
  "language_info": {
   "codemirror_mode": {
    "name": "ipython",
    "version": 3
   },
   "file_extension": ".py",
   "mimetype": "text/x-python",
   "name": "python",
   "nbconvert_exporter": "python",
   "pygments_lexer": "ipython3",
   "version": "3.11.5"
  }
 },
 "nbformat": 4,
 "nbformat_minor": 5
}
