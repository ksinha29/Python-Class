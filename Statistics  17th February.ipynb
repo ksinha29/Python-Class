{
 "cells": [
  {
   "cell_type": "markdown",
   "id": "929b08c9",
   "metadata": {},
   "source": [
    "# Let's calculate the mean, median, mode, and standard deviation for the given data \n",
    "\n",
    "[10,15,20,25,30] step by step.\n",
    "\n",
    "X=[10,15,20,25,30]\n",
    "\n",
    "Let's calculate the mean, median, mode, and standard deviation for the given data \n",
    "[10,15,20,25,30] step by step.\n",
    "\n",
    "Given Data:\n",
    "X=[10,15,20,25,30]\n",
    "\n",
    "\n",
    "Mean=sum of total number / count of total number\n",
    "Calculation:= 10+15+20+25+30/5 =100/5= 20\n",
    " \n",
    "\n",
    "Median:\n",
    "Math Formula:\n",
    "\n",
    "For odd number of data points: \n",
    "Median=Middle value\n",
    "\n",
    "For even number of data points: \n",
    "Median=Sum of two middle values\n",
    "\n",
    "Calculation:Since there are 5 data points, the median is the middle value, which is 20.\n",
    "    \n",
    "Mode:\n",
    "Math Formula:\n",
    "Mode=Value with the highest frequency\n",
    "\n",
    "\n",
    "Calculation:\n",
    "\n",
    "All values in the given data are unique, so there is no mode.\n",
    "\n",
    "Standard Deviation:\n",
    "Math Formula:\n",
    "\n",
    " \n",
    "Mean=20\n",
    "Deviation from Mean=[10−20,15−20,20−20,25−20,30−20]=[−10,−5,0,5,10]\n",
    "\n",
    "\n",
    "Squared Deviation=(Deviation from Mean)2\n",
    "\n",
    "\n",
    "Squared Deviation=[(−10) 2 ,(−5) 2 ,0 2 ,5 2 ,10 2 ]=[100,25,0,25,100]\n",
    "Variance:=[100,25,0,25,100]/5= 250/5=50\n",
    "Standard Deviation= rout 50= ≈7.07\n",
    "\n",
    "summary:\n",
    "Mean: 20\n",
    "Deviation from Mean: [-10, -5, 0, 5, 10]\n",
    "Squared Deviation: [100, 25, 0, 25, 100]\n",
    "Variance: rout 50\n",
    "Standard Deviation:rout 50=≈7.07\n"
   ]
  },
  {
   "cell_type": "code",
   "execution_count": 1,
   "id": "25312517",
   "metadata": {},
   "outputs": [],
   "source": [
    "# Importing necessary libraries\n",
    "import pandas as pd\n",
    "import numpy as np\n",
    "from scipy import stats"
   ]
  },
  {
   "cell_type": "code",
   "execution_count": 2,
   "id": "a3e2d087",
   "metadata": {},
   "outputs": [],
   "source": [
    "# Given data\n",
    "data = np.array([10, 15, 20, 25, 30])"
   ]
  },
  {
   "cell_type": "code",
   "execution_count": 3,
   "id": "85129809",
   "metadata": {},
   "outputs": [
    {
     "name": "stdout",
     "output_type": "stream",
     "text": [
      "Mean: 20.0\n"
     ]
    }
   ],
   "source": [
    "# Mean calculation\n",
    "mean_result = np.mean(data)\n",
    "print(\"Mean:\", mean_result)"
   ]
  },
  {
   "cell_type": "code",
   "execution_count": 5,
   "id": "d310418c",
   "metadata": {},
   "outputs": [
    {
     "name": "stdout",
     "output_type": "stream",
     "text": [
      "Mean: 20.0\n"
     ]
    }
   ],
   "source": [
    "df = pd.Series([10, 15, 20, 25, 30])\n",
    "mean_result = df.mean()\n",
    "print(\"Mean:\", mean_result)"
   ]
  },
  {
   "cell_type": "code",
   "execution_count": null,
   "id": "2bb52a70",
   "metadata": {},
   "outputs": [],
   "source": []
  },
  {
   "cell_type": "code",
   "execution_count": 6,
   "id": "ca0c5fce",
   "metadata": {},
   "outputs": [
    {
     "name": "stdout",
     "output_type": "stream",
     "text": [
      "Median: 20.0\n"
     ]
    }
   ],
   "source": [
    "# Median calculation with numpy\n",
    "median_result = np.median(data)\n",
    "print(\"Median:\", median_result)"
   ]
  },
  {
   "cell_type": "code",
   "execution_count": 7,
   "id": "c9826746",
   "metadata": {},
   "outputs": [
    {
     "name": "stdout",
     "output_type": "stream",
     "text": [
      "Median: 20.0\n"
     ]
    }
   ],
   "source": [
    "# Median calculation with pandas\n",
    "median_result = df.median()\n",
    "print(\"Median:\", median_result)"
   ]
  },
  {
   "cell_type": "code",
   "execution_count": null,
   "id": "0da05edc",
   "metadata": {},
   "outputs": [],
   "source": []
  },
  {
   "cell_type": "code",
   "execution_count": 14,
   "id": "1f52a03c",
   "metadata": {},
   "outputs": [
    {
     "name": "stdout",
     "output_type": "stream",
     "text": [
      "No mode\n"
     ]
    }
   ],
   "source": [
    "import numpy as np\n",
    "from scipy import stats\n",
    "\n",
    "# Given data\n",
    "data = np.array([10, 15, 20, 25, 30])\n",
    "\n",
    "# Calculate the mode\n",
    "mode_result = stats.mode(data)\n",
    "\n",
    "# Check if there is a mode\n",
    "if mode_result.count > 1:\n",
    "    mode_value = mode_result.mode\n",
    "    print(\"Mode using NumPy:\", mode_value)\n",
    "else:\n",
    "    print(\"No mode\")\n"
   ]
  },
  {
   "cell_type": "code",
   "execution_count": 15,
   "id": "1cb4cc3d",
   "metadata": {},
   "outputs": [
    {
     "name": "stdout",
     "output_type": "stream",
     "text": [
      "Mode using Pandas: 0    10\n",
      "1    15\n",
      "2    20\n",
      "3    25\n",
      "4    30\n",
      "dtype: int64\n"
     ]
    }
   ],
   "source": [
    "# Calculate the mode with pandas\n",
    "mode_result = df.mode()\n",
    "\n",
    "# Display the result\n",
    "print(\"Mode using Pandas:\", mode_result)"
   ]
  },
  {
   "cell_type": "code",
   "execution_count": 16,
   "id": "9c29e75a",
   "metadata": {},
   "outputs": [
    {
     "data": {
      "text/plain": [
       "7.0710678118654755"
      ]
     },
     "execution_count": 16,
     "metadata": {},
     "output_type": "execute_result"
    }
   ],
   "source": [
    "# Standard deviation calculation\n",
    "data=[10,15,20,25,30]\n",
    "std_dev_result = np.std(data)\n",
    "std_dev_result"
   ]
  },
  {
   "cell_type": "code",
   "execution_count": 17,
   "id": "9741a72f",
   "metadata": {},
   "outputs": [
    {
     "name": "stdout",
     "output_type": "stream",
     "text": [
      "Standard Deviation using Pandas: 7.905694150420948\n"
     ]
    }
   ],
   "source": [
    "import pandas as pd\n",
    "\n",
    "# Given data\n",
    "data = [10, 15, 20, 25, 30]\n",
    "\n",
    "# Create a Pandas Series\n",
    "series_data = pd.Series(data)\n",
    "\n",
    "# Calculate the standard deviation\n",
    "std_dev_result = series_data.std()\n",
    "\n",
    "# Display the result\n",
    "print(\"Standard Deviation using Pandas:\", std_dev_result)\n"
   ]
  },
  {
   "cell_type": "code",
   "execution_count": 19,
   "id": "6046301c",
   "metadata": {},
   "outputs": [
    {
     "name": "stdout",
     "output_type": "stream",
     "text": [
      "Mean: 20.0\n",
      "Median: 20.0\n",
      "Mode: 0    10\n",
      "1    15\n",
      "2    20\n",
      "3    25\n",
      "4    30\n",
      "dtype: int64\n",
      "Standard Deviation: 7.905694150420948\n"
     ]
    }
   ],
   "source": [
    "# Displaying the results\n",
    "print(\"Mean:\", mean_result)\n",
    "print(\"Median:\", median_result)\n",
    "print(\"Mode:\", mode_result)\n",
    "print(\"Standard Deviation:\", std_dev_result)"
   ]
  },
  {
   "cell_type": "code",
   "execution_count": null,
   "id": "f0cf792b",
   "metadata": {},
   "outputs": [],
   "source": []
  }
 ],
 "metadata": {
  "kernelspec": {
   "display_name": "Python 3 (ipykernel)",
   "language": "python",
   "name": "python3"
  },
  "language_info": {
   "codemirror_mode": {
    "name": "ipython",
    "version": 3
   },
   "file_extension": ".py",
   "mimetype": "text/x-python",
   "name": "python",
   "nbconvert_exporter": "python",
   "pygments_lexer": "ipython3",
   "version": "3.11.5"
  }
 },
 "nbformat": 4,
 "nbformat_minor": 5
}
