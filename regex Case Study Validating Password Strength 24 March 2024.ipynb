{
 "cells": [
  {
   "cell_type": "markdown",
   "id": "dd862a7a",
   "metadata": {},
   "source": [
    "# regex Case Study: Validating Password Strength\n",
    "\n",
    "Let's create a case study where we use Python regex to validate the strength of passwords. We'll define a set of criteria for a strong password and then use regular expressions to check if a given password meets those criteria.\n",
    "\n",
    "Criteria for a Strong Password:\n",
    "\n",
    "Length: Password must be at least 8 characters long.\n",
    "Complexity: Password must contain a mix of uppercase letters, lowercase letters, numbers, and special characters.\n",
    "Python Implementation:"
   ]
  },
  {
   "cell_type": "markdown",
   "id": "149e283e",
   "metadata": {},
   "source": [
    "# Explanation:\n",
    "\n",
    "We define a function validate_password(password) which takes a password as input and returns a tuple (valid, message), where valid is a boolean indicating whether the password meets the criteria, and message provides feedback on the strength of the password.\n",
    "\n",
    "We first check the length of the password. If it's less than 8 characters, we immediately return False.\n",
    "\n",
    "We define a regex pattern (pattern) that enforces the complexity criteria. This pattern uses positive lookahead assertions to ensure the presence of at least one lowercase letter, one uppercase letter, one digit, and one special character in any order. The pattern also ensures that the password consists of only allowed characters.\n",
    "\n",
    "We use re.match() to check if the password matches the pattern.\n",
    "\n",
    "Finally, we test the function with a list of sample passwords and print the result along with a feedback message."
   ]
  },
  {
   "cell_type": "code",
   "execution_count": 1,
   "id": "df7e011c",
   "metadata": {},
   "outputs": [],
   "source": [
    "import re"
   ]
  },
  {
   "cell_type": "code",
   "execution_count": 2,
   "id": "76f05e1a",
   "metadata": {},
   "outputs": [],
   "source": [
    "def validate_password(password):\n",
    "    # Minimum length of 8 characters\n",
    "    if len(password) < 8:\n",
    "        return False, \"Password must be at least 8 characters long.\"\n",
    "\n",
    "    # Regex pattern to check for complexity\n",
    "    pattern = r'^(?=.*[a-z])(?=.*[A-Z])(?=.*\\d)(?=.*[@$!%*?&])[A-Za-z\\d@$!%*?&]+$'\n",
    "    \n",
    "    # Check if password matches the pattern\n",
    "    if re.match(pattern, password):\n",
    "        return True, \"Password meets the criteria for strength.\"\n",
    "    else:\n",
    "        return False, \"Password must contain a mix of uppercase letters, lowercase letters, numbers, and special characters.\""
   ]
  },
  {
   "cell_type": "code",
   "execution_count": 3,
   "id": "374debdc",
   "metadata": {},
   "outputs": [],
   "source": [
    "# Test the function with sample passwords\n",
    "passwords = [\n",
    "    \"weakpassword\",         # contain a mix of uppercase letters, lowercase letters, numbers, and special character\n",
    "    \"Password123\",          # Missing special character\n",
    "    \"Strong@Password123\",   # Strong password\n",
    "    \"NoSpecialCharacter1\",   # Missing special character\n",
    "    \"S@rexextest2\"          #Password meets the criteria for strength\n",
    "]"
   ]
  },
  {
   "cell_type": "code",
   "execution_count": 5,
   "id": "e775bef3",
   "metadata": {
    "scrolled": true
   },
   "outputs": [
    {
     "name": "stdout",
     "output_type": "stream",
     "text": [
      "'weakpassword': Password must contain a mix of uppercase letters, lowercase letters, numbers, and special characters.\n",
      "'Password123': Password must contain a mix of uppercase letters, lowercase letters, numbers, and special characters.\n",
      "'Strong@Password123': Password meets the criteria for strength.\n",
      "'NoSpecialCharacter1': Password must contain a mix of uppercase letters, lowercase letters, numbers, and special characters.\n",
      "'S@rexextest2': Password meets the criteria for strength.\n"
     ]
    }
   ],
   "source": [
    "for password in passwords:\n",
    "    valid, message = validate_password(password)\n",
    "    print(f\"'{password}': {message}\")\n"
   ]
  },
  {
   "cell_type": "code",
   "execution_count": null,
   "id": "29b1deda",
   "metadata": {},
   "outputs": [],
   "source": []
  },
  {
   "cell_type": "code",
   "execution_count": null,
   "id": "45e4bc30",
   "metadata": {},
   "outputs": [],
   "source": []
  },
  {
   "cell_type": "markdown",
   "id": "bcb2e8a5",
   "metadata": {},
   "source": [
    "# Exercise: Extracting Phone Numbers\n",
    "\n",
    "Given a text containing various lines of text, write a Python function that extracts all the phone numbers mentioned in the text. Assume that the phone numbers follow the format: (XXX) XXX-XXXX, where X represents a digit (0-9)."
   ]
  },
  {
   "cell_type": "markdown",
   "id": "f06f13d9",
   "metadata": {},
   "source": [
    "# Example Text:\n",
    "Hello, my phone number is (123) 456-7890.\n",
    "\n",
    "You can also reach me at (555) 123-4567 or (987) 654-3210.\n"
   ]
  },
  {
   "cell_type": "markdown",
   "id": "508cda4f",
   "metadata": {},
   "source": [
    "# Expected Output:\n",
    "(123) 456-7890\n",
    "\n",
    "(555) 123-4567\n",
    "\n",
    "(987) 654-3210\n"
   ]
  },
  {
   "cell_type": "code",
   "execution_count": null,
   "id": "96675b1a",
   "metadata": {},
   "outputs": [],
   "source": []
  }
 ],
 "metadata": {
  "kernelspec": {
   "display_name": "Python 3 (ipykernel)",
   "language": "python",
   "name": "python3"
  },
  "language_info": {
   "codemirror_mode": {
    "name": "ipython",
    "version": 3
   },
   "file_extension": ".py",
   "mimetype": "text/x-python",
   "name": "python",
   "nbconvert_exporter": "python",
   "pygments_lexer": "ipython3",
   "version": "3.11.5"
  }
 },
 "nbformat": 4,
 "nbformat_minor": 5
}
