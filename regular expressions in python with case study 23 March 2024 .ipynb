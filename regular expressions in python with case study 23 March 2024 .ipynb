{
 "cells": [
  {
   "cell_type": "markdown",
   "id": "aaf6024e",
   "metadata": {},
   "source": [
    "# regular expressions in python "
   ]
  },
  {
   "cell_type": "markdown",
   "id": "47fec974",
   "metadata": {},
   "source": [
    "# Regular expressions, often abbreviated as regex or regexp, are sequences of characters that define a search pattern. They are widely used in text processing tasks for searching, extracting, and manipulating strings based on patterns.\n",
    "\n",
    "In Python, the re module provides support for regular expressions. Here's an overview of some common functions and methods provided by the re module:\n",
    "\n",
    "re.search(pattern, string): This function searches for the first occurrence of the pattern within the string and returns a match object if found. If not found, it returns None."
   ]
  },
  {
   "cell_type": "code",
   "execution_count": 3,
   "id": "2b210064",
   "metadata": {},
   "outputs": [
    {
     "name": "stdout",
     "output_type": "stream",
     "text": [
      "Found: apple\n"
     ]
    }
   ],
   "source": [
    "import re\n",
    "var1 = re.search(r'apple', 'I love apples and oranges')\n",
    "if var1:\n",
    "    print('Found:', var1.group())\n"
   ]
  },
  {
   "cell_type": "markdown",
   "id": "4087d796",
   "metadata": {},
   "source": [
    "# re.match(pattern, string): This function checks if the pattern matches at the beginning of the string. It returns a match object if successful, otherwise None."
   ]
  },
  {
   "cell_type": "code",
   "execution_count": 6,
   "id": "54cbca28",
   "metadata": {},
   "outputs": [
    {
     "name": "stdout",
     "output_type": "stream",
     "text": [
      "Found: apple\n"
     ]
    }
   ],
   "source": [
    "import re\n",
    "var2 = re.match(r'apple', 'apple pie')\n",
    "if var2:\n",
    "    print('Found:', var2.group())\n"
   ]
  },
  {
   "cell_type": "code",
   "execution_count": 8,
   "id": "3b820abf",
   "metadata": {},
   "outputs": [],
   "source": [
    "import re\n",
    "match = re.match(r'apple', 'orange apple  pie')\n",
    "if match:\n",
    "    print('Found:', match.group())"
   ]
  },
  {
   "cell_type": "markdown",
   "id": "8ac56c17",
   "metadata": {},
   "source": [
    "# re.findall(pattern, string): This function finds all occurrences of the pattern in the string and returns them as a list of strings."
   ]
  },
  {
   "cell_type": "code",
   "execution_count": 10,
   "id": "836347d9",
   "metadata": {},
   "outputs": [
    {
     "name": "stdout",
     "output_type": "stream",
     "text": [
      "Found: ['10', '20', '50']\n"
     ]
    }
   ],
   "source": [
    "import re\n",
    "matches = re.findall(r'\\d+', 'There are 10 apples and 20 oranges 50 banana')\n",
    "print('Found:', matches)"
   ]
  },
  {
   "cell_type": "markdown",
   "id": "2559999d",
   "metadata": {},
   "source": [
    "# re.finditer(pattern, string): This function returns an iterator yielding match objects over all non-overlapping matches of the pattern in the string."
   ]
  },
  {
   "cell_type": "code",
   "execution_count": 16,
   "id": "1fef96af",
   "metadata": {},
   "outputs": [
    {
     "name": "stdout",
     "output_type": "stream",
     "text": [
      "Found: 10\n",
      "Found: 20\n",
      "Found: 50\n"
     ]
    }
   ],
   "source": [
    "import re\n",
    "matches = re.finditer(r'\\d+', 'There are 10 apples and 20 oranges 50 banana')\n",
    "#print('Found:', matches)\n",
    "for i in matches:\n",
    "    print('Found:', i.group())\n"
   ]
  },
  {
   "cell_type": "markdown",
   "id": "3969fc22",
   "metadata": {},
   "source": [
    "# re.sub(pattern, repl, string): This function replaces occurrences of the pattern in the string with the replacement string."
   ]
  },
  {
   "cell_type": "code",
   "execution_count": 17,
   "id": "c6a1cd4d",
   "metadata": {},
   "outputs": [
    {
     "name": "stdout",
     "output_type": "stream",
     "text": [
      "Modified: There are XX apples and XX oranges\n"
     ]
    }
   ],
   "source": [
    "import re\n",
    "new_string = re.sub(r'\\d+', 'XX', 'There are 10 apples and 20 oranges')\n",
    "print('Modified:', new_string)"
   ]
  },
  {
   "cell_type": "markdown",
   "id": "6d9c43cc",
   "metadata": {},
   "source": [
    "# Pattern Syntax: Regular expression patterns are formed using a combination of characters and metacharacters. For example:\n",
    "\n",
    "\\d: Matches any decimal digit.\n",
    "\n",
    "\\w: Matches any alphanumeric character and underscore.\n",
    "\n",
    "[]: Matches any single character within the brackets.\n",
    "\n",
    ".: Matches any single character except newline.\n",
    "\n",
    "*, +, ?: Quantifiers to specify repetition.\n",
    "\n",
    "^, $: Anchors to match the beginning and end of the string respectively."
   ]
  },
  {
   "cell_type": "code",
   "execution_count": null,
   "id": "abf64168",
   "metadata": {},
   "outputs": [],
   "source": []
  },
  {
   "cell_type": "code",
   "execution_count": null,
   "id": "1ad0aad2",
   "metadata": {},
   "outputs": [],
   "source": []
  },
  {
   "cell_type": "markdown",
   "id": "71afb03a",
   "metadata": {},
   "source": [
    "# Case Study: Extracting Email Addresses from a Text File by using Python with regular expressions"
   ]
  },
  {
   "cell_type": "markdown",
   "id": "b0e7e631",
   "metadata": {},
   "source": [
    "# let's create a simple case study using Python regex"
   ]
  },
  {
   "cell_type": "markdown",
   "id": "c3e1fd35",
   "metadata": {},
   "source": [
    "# In this code:\n",
    "\n",
    "We define a function extract_emails_from_text_file that takes the path to the text file as input.\n",
    "\n",
    "Within this function, we read the contents of the file using open() and read().\n",
    "\n",
    "We then define a regular expression pattern email_pattern to match email addresses. This pattern matches common email address formats.\n",
    "\n",
    "Using re.findall(), we extract all the email addresses from the text.\n",
    "\n",
    "Finally, we return the list of extracted email addresses.\n",
    "\n",
    "Make sure to replace 'sample_text.txt' with the path to your actual text file."
   ]
  },
  {
   "cell_type": "code",
   "execution_count": 18,
   "id": "f5860c95",
   "metadata": {},
   "outputs": [],
   "source": [
    "import re"
   ]
  },
  {
   "cell_type": "code",
   "execution_count": 19,
   "id": "3b8db5e2",
   "metadata": {},
   "outputs": [],
   "source": [
    "def extract_emails_from_text_file(file_path):\n",
    "    with open(file_path, 'r') as file:\n",
    "        text = file.read()\n",
    "\n",
    "    # Regular expression pattern for matching email addresses\n",
    "    email_pattern = r'\\b[A-Za-z0-9._%+-]+@[A-Za-z0-9.-]+\\.[A-Z|a-z]{2,}\\b'\n",
    "\n",
    "    # Using findall to extract all email addresses from the text\n",
    "    emails = re.findall(email_pattern, text)\n",
    "\n",
    "    return emails"
   ]
  },
  {
   "cell_type": "code",
   "execution_count": 20,
   "id": "766750a4",
   "metadata": {},
   "outputs": [
    {
     "name": "stdout",
     "output_type": "stream",
     "text": [
      "Extracted Email Addresses:\n",
      "user@example.com\n",
      "business@company.com\n"
     ]
    }
   ],
   "source": [
    "# Example usage:\n",
    "file_path = 'sample_text.txt'\n",
    "emails = extract_emails_from_text_file(file_path)\n",
    "print(\"Extracted Email Addresses:\")\n",
    "for email in emails:\n",
    "    print(email)\n"
   ]
  },
  {
   "cell_type": "code",
   "execution_count": null,
   "id": "014903f9",
   "metadata": {},
   "outputs": [],
   "source": []
  }
 ],
 "metadata": {
  "kernelspec": {
   "display_name": "Python 3 (ipykernel)",
   "language": "python",
   "name": "python3"
  },
  "language_info": {
   "codemirror_mode": {
    "name": "ipython",
    "version": 3
   },
   "file_extension": ".py",
   "mimetype": "text/x-python",
   "name": "python",
   "nbconvert_exporter": "python",
   "pygments_lexer": "ipython3",
   "version": "3.11.5"
  }
 },
 "nbformat": 4,
 "nbformat_minor": 5
}
